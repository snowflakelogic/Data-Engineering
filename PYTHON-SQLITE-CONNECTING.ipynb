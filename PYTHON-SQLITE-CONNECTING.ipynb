{
 "cells": [
  {
   "cell_type": "code",
   "execution_count": 2,
   "id": "f903d0a6",
   "metadata": {},
   "outputs": [],
   "source": [
    "import sqlite3"
   ]
  },
  {
   "cell_type": "code",
   "execution_count": 29,
   "id": "057795c4",
   "metadata": {},
   "outputs": [
    {
     "data": {
      "text/plain": [
       "<sqlite3.Connection at 0x2a5979af3d0>"
      ]
     },
     "execution_count": 29,
     "metadata": {},
     "output_type": "execute_result"
    }
   ],
   "source": [
    "connection  = sqlite3.connect('example.db')\n",
    "connection"
   ]
  },
  {
   "cell_type": "code",
   "execution_count": 30,
   "id": "97ecfc0c",
   "metadata": {},
   "outputs": [],
   "source": [
    "cursor = connection.cursor()"
   ]
  },
  {
   "cell_type": "code",
   "execution_count": 31,
   "id": "b84b814e",
   "metadata": {},
   "outputs": [],
   "source": [
    "cursor.execute('''\n",
    "CREATE TABLE IF NOT EXISTS employees(\n",
    "               id integer primary key,\n",
    "               name text not null,\n",
    "               age integer,\n",
    "               department text\n",
    "               )\n",
    "               ''')\n",
    "connection.commit()"
   ]
  },
  {
   "cell_type": "code",
   "execution_count": 37,
   "id": "eadfc86f",
   "metadata": {},
   "outputs": [],
   "source": [
    "cursor.execute('''INSERT INTO employees values(4,'kesha',20,'AIDS'),\n",
    "               (5,'lisa',23,'CSE')\n",
    "                ''')\n",
    "connection.commit()"
   ]
  },
  {
   "cell_type": "code",
   "execution_count": 38,
   "id": "e0aaf048",
   "metadata": {},
   "outputs": [
    {
     "name": "stdout",
     "output_type": "stream",
     "text": [
      "(1, 'nikshi', 20, 'AIDS')\n",
      "(2, 'nisha', 22, 'AIDS')\n",
      "(3, 'nishesh', 23, 'CSE')\n",
      "(4, 'kesha', 20, 'AIDS')\n",
      "(5, 'lisa', 23, 'CSE')\n"
     ]
    }
   ],
   "source": [
    "cursor.execute('select * from employees')\n",
    "rows=cursor.fetchall()\n",
    "for row in rows:\n",
    "    print(row)"
   ]
  },
  {
   "cell_type": "code",
   "execution_count": 39,
   "id": "611832bf",
   "metadata": {},
   "outputs": [],
   "source": [
    "cursor.execute('''UPDATE employees set age = 25 where id = 2''')\n",
    "connection.commit()"
   ]
  },
  {
   "cell_type": "code",
   "execution_count": 40,
   "id": "55c98b57",
   "metadata": {},
   "outputs": [
    {
     "name": "stdout",
     "output_type": "stream",
     "text": [
      "(1, 'nikshi', 20, 'AIDS')\n",
      "(2, 'nisha', 25, 'AIDS')\n",
      "(3, 'nishesh', 23, 'CSE')\n",
      "(4, 'kesha', 20, 'AIDS')\n",
      "(5, 'lisa', 23, 'CSE')\n"
     ]
    }
   ],
   "source": [
    "cursor.execute('''select * from employees''')\n",
    "rows = cursor.fetchall()\n",
    "for row in rows:\n",
    "    print(row)"
   ]
  },
  {
   "cell_type": "code",
   "execution_count": 42,
   "id": "a0c6e261",
   "metadata": {},
   "outputs": [],
   "source": [
    "cursor.execute(''' DELETE FROM employees where id = 5 ''')\n",
    "connection.commit()"
   ]
  },
  {
   "cell_type": "code",
   "execution_count": 43,
   "id": "c676b8fd",
   "metadata": {},
   "outputs": [],
   "source": [
    "connection.close()"
   ]
  },
  {
   "cell_type": "code",
   "execution_count": 45,
   "id": "86a610df",
   "metadata": {},
   "outputs": [
    {
     "data": {
      "text/plain": [
       "<sqlite3.Connection at 0x2a597b0ac50>"
      ]
     },
     "execution_count": 45,
     "metadata": {},
     "output_type": "execute_result"
    }
   ],
   "source": [
    "connection = sqlite3.connect('sales.db')\n",
    "connection"
   ]
  },
  {
   "cell_type": "code",
   "execution_count": 46,
   "id": "00eca5a8",
   "metadata": {},
   "outputs": [],
   "source": [
    "cursor =  connection.cursor()"
   ]
  },
  {
   "cell_type": "code",
   "execution_count": 47,
   "id": "7abe1894",
   "metadata": {},
   "outputs": [],
   "source": [
    "cursor.execute(''' CREATE TABLE IF NOT EXISTS sales(\n",
    "               id int primary key,\n",
    "                productname text not null,\n",
    "               date date NOT null,\n",
    "               salescount int,\n",
    "               region text not null)''')\n",
    "connection.commit()"
   ]
  },
  {
   "cell_type": "code",
   "execution_count": 58,
   "id": "c0c01023",
   "metadata": {},
   "outputs": [
    {
     "name": "stdout",
     "output_type": "stream",
     "text": [
      "[(1, 'pencil', '2025-06-06', 200, 'INDIA'), (2, 'pen', '2025-06-07', 300, 'EAST TIMOR'), (3, 'scale', '2025-06-08', 170, 'AUSTRALIA'), (4, 'stencil', '2025-06-09', 100, 'NEPAL'), (5, 'eraser', '2025-06-10', 290, 'INDIA'), (6, 'compass', '2025-06-11', 250, 'INDIA')]\n"
     ]
    }
   ],
   "source": [
    "salesdata = [\n",
    "    (1,'pencil','2025-06-06',200,'INDIA'),\n",
    "    (2,'pen','2025-06-07',300,'EAST TIMOR'),\n",
    "    (3,'scale','2025-06-08',170,'AUSTRALIA'),\n",
    "    (4,'stencil','2025-06-09',100,'NEPAL'),\n",
    "    (5,'eraser','2025-06-10',290,'INDIA'),\n",
    "    (6,'compass','2025-06-11',250,'INDIA')\n",
    "]\n",
    "print(salesdata)"
   ]
  },
  {
   "cell_type": "code",
   "execution_count": 59,
   "id": "083c0ed3",
   "metadata": {},
   "outputs": [],
   "source": [
    "cursor.executemany('''insert into sales(id,productname,date,salescount,region) values(?,?,?,?,?)''',salesdata)\n",
    "connection.commit()"
   ]
  },
  {
   "cell_type": "code",
   "execution_count": 62,
   "id": "3d7a690e",
   "metadata": {},
   "outputs": [
    {
     "name": "stdout",
     "output_type": "stream",
     "text": [
      "(1, 'pencil', '2025-06-06', 200, 'INDIA')\n",
      "(2, 'pen', '2025-06-07', 300, 'EAST TIMOR')\n",
      "(3, 'scale', '2025-06-08', 170, 'AUSTRALIA')\n",
      "(4, 'stencil', '2025-06-09', 100, 'NEPAL')\n",
      "(5, 'eraser', '2025-06-10', 290, 'INDIA')\n",
      "(6, 'compass', '2025-06-11', 250, 'INDIA')\n"
     ]
    }
   ],
   "source": [
    "cursor.execute('''select * from sales''')\n",
    "rows = cursor.fetchall()\n",
    "for row in rows:\n",
    "    print(row)"
   ]
  },
  {
   "cell_type": "code",
   "execution_count": 63,
   "id": "7ef24a8d",
   "metadata": {},
   "outputs": [],
   "source": [
    "connection.close()"
   ]
  }
 ],
 "metadata": {
  "kernelspec": {
   "display_name": "Python 3",
   "language": "python",
   "name": "python3"
  },
  "language_info": {
   "codemirror_mode": {
    "name": "ipython",
    "version": 3
   },
   "file_extension": ".py",
   "mimetype": "text/x-python",
   "name": "python",
   "nbconvert_exporter": "python",
   "pygments_lexer": "ipython3",
   "version": "3.12.6"
  }
 },
 "nbformat": 4,
 "nbformat_minor": 5
}
